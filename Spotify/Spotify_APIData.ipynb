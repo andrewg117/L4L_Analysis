{
 "cells": [
  {
   "attachments": {},
   "cell_type": "markdown",
   "metadata": {},
   "source": [
    "## Spotify\n",
    "### Artist Top Songs API Call\n",
    "- Gets data for the artist's top songs using an artist URI with the spotify.artist_top_tracks function. \n",
    "- Creates the initial json files for each playlist to obtain data for each track."
   ]
  },
  {
   "cell_type": "code",
   "execution_count": 13,
   "metadata": {},
   "outputs": [
    {
     "name": "stderr",
     "output_type": "stream",
     "text": [
      "Python-dotenv could not parse statement starting at line 3\n",
      "Python-dotenv could not parse statement starting at line 8\n"
     ]
    }
   ],
   "source": [
    "import os\n",
    "from dotenv import load_dotenv\n",
    "import spotipy\n",
    "from spotipy.oauth2 import SpotifyClientCredentials\n",
    "import pandas as pd\n",
    "import json\n",
    "import time\n",
    "\n",
    "# Loads variables from .env file\n",
    "load_dotenv()\n",
    "\n",
    "CLIENT_ID = os.getenv('CLIENT_ID')\n",
    "CLIENT_SECRET = os.getenv('CLIENT_SECRET')\n",
    "spotify = spotipy.Spotify(client_credentials_manager=SpotifyClientCredentials(client_id=CLIENT_ID,client_secret=CLIENT_SECRET))\n",
    "\n",
    "# Nas: https://open.spotify.com/artist/20qISvAhX20dpIbOOzGK3q?si=Pnau76aiQ72WoNtm99G4Jw\n",
    "# The Ambassador: https://open.spotify.com/artist/3yBfMJRvM0LrPzR8hypjNq?si=ZtbfUoGLS1ig4tv0siXp1g\n",
    "\n",
    "artist_uri = 'spotify:artist:20qISvAhX20dpIbOOzGK3q'\n",
    "\n",
    "def getArtistTopResults(artist_uri, jsonFileName):\n",
    "    artistTopResults = spotify.artist_top_tracks(artist_id=artist_uri)\n",
    "\n",
    "    topTracksDict = {\"track_uri\": [], \"artist_uri\": [], \"album_uri\": [], \"artist_name\": [], \"album_name\": [], \"release_date\": [], \"track_name\": [], \"duration_ms\": [], \"explicit\": [], \"popularity\": []}\n",
    "\n",
    "    for idx, item in enumerate(artistTopResults['tracks']):\n",
    "        track = item\n",
    "        topTracksDict['track_uri'].append(track['uri'])\n",
    "        topTracksDict['artist_uri'].append(track['artists'][0]['uri'])\n",
    "        topTracksDict['album_uri'].append(track['album']['uri'])\n",
    "        topTracksDict['artist_name'].append(track['artists'][0]['name'])\n",
    "        topTracksDict['album_name'].append(track['album']['name'])\n",
    "        topTracksDict['release_date'].append(track['album']['release_date'])\n",
    "        topTracksDict['track_name'].append(track['name'])\n",
    "        topTracksDict['duration_ms'].append(track['duration_ms'])\n",
    "        topTracksDict['explicit'].append(track['explicit'])\n",
    "        topTracksDict['popularity'].append(track['popularity'])\n",
    "\n",
    "    with open(jsonFileName, 'w') as outfile:\n",
    "        json.dump(topTracksDict, outfile)\n",
    "\n",
    "\n",
    "getArtistTopResults('spotify:artist:20qISvAhX20dpIbOOzGK3q', 'HHTopTracksDict.json')\n",
    "time.sleep(1)\n",
    "getArtistTopResults('spotify:artist:3yBfMJRvM0LrPzR8hypjNq', 'CHHTopTracksDict.json')"
   ]
  },
  {
   "attachments": {},
   "cell_type": "markdown",
   "metadata": {},
   "source": [
    "### Playlist API Call\n",
    "\n",
    "- Gets data for playlist using a spotify URI with the spotify.playlist function.\n",
    "- Creates the initial json files for each playlist to obtain data for each track."
   ]
  },
  {
   "cell_type": "code",
   "execution_count": 1,
   "metadata": {},
   "outputs": [
    {
     "name": "stderr",
     "output_type": "stream",
     "text": [
      "Python-dotenv could not parse statement starting at line 3\n",
      "Python-dotenv could not parse statement starting at line 8\n"
     ]
    }
   ],
   "source": [
    "import os\n",
    "from dotenv import load_dotenv\n",
    "import spotipy\n",
    "from spotipy.oauth2 import SpotifyClientCredentials\n",
    "import pandas as pd\n",
    "import json\n",
    "import time\n",
    "\n",
    "# Loads variables from .env file\n",
    "load_dotenv()\n",
    "\n",
    "CLIENT_ID = os.getenv('CLIENT_ID')\n",
    "CLIENT_SECRET = os.getenv('CLIENT_SECRET')\n",
    "spotify = spotipy.Spotify(client_credentials_manager=SpotifyClientCredentials(client_id=CLIENT_ID,client_secret=CLIENT_SECRET))\n",
    "\n",
    "# Playlist URLs\n",
    "# Hip-Hop: \n",
    "# RapCaviar\n",
    "# https://open.spotify.com/playlist/37i9dQZF1DX0XUsuxWHRQd\n",
    "\n",
    "# CHH:\n",
    "# Trackstarz playlist\n",
    "# Line 4 Line LimoBlaze\n",
    "# https://open.spotify.com/playlist/1l6IFw8wj5l74rnIlWnknO?si=PBKiXdRTT0el9DTiavv2MQ\n",
    "\n",
    "# Spotipy Documentation\n",
    "# https://spotipy.readthedocs.io/en/latest/\n",
    "def getPlaylistResults(playlistURI, jsonFileName):\n",
    "    playlistResults = spotify.playlist(playlist_id=playlistURI)\n",
    "\n",
    "    playlistDict = {\"track_uri\": [], \"artist_uri\": [], \"album_uri\": [], \"artist_name\": [], \"album_name\": [], \"release_date\": [], \"track_name\": [], \"duration_ms\": [], \"explicit\": [], \"popularity\": []}\n",
    "\n",
    "    for idx, item in enumerate(playlistResults['tracks']['items']):\n",
    "        track = item['track']\n",
    "        playlistDict['track_uri'].append(track['uri'])\n",
    "        playlistDict['artist_uri'].append(track['artists'][0]['uri'])\n",
    "        playlistDict['album_uri'].append(track['album']['uri'])\n",
    "        playlistDict['artist_name'].append(track['artists'][0]['name'])\n",
    "        playlistDict['album_name'].append(track['album']['name'])\n",
    "        playlistDict['release_date'].append(track['album']['release_date'])\n",
    "        playlistDict['track_name'].append(track['name'])\n",
    "        playlistDict['duration_ms'].append(track['duration_ms'])\n",
    "        playlistDict['explicit'].append(track['explicit'])\n",
    "        playlistDict['popularity'].append(track['popularity'])\n",
    "\n",
    "    with open(jsonFileName, 'w') as outfile:\n",
    "        json.dump(playlistDict, outfile)\n",
    "\n",
    "# getPlaylistResults('spotify:playlist:37i9dQZF1DX0XUsuxWHRQd', 'HHPlaylistDict.json')\n",
    "\n",
    "# time.sleep(1)\n",
    "\n",
    "getPlaylistResults('spotify:playlist:1l6IFw8wj5l74rnIlWnknO', 'CHHPlaylistDict.json')\n",
    "\n",
    "# Search for HH artist\n",
    "# spotify.search(q='artist:' + artist + ', track:' + title, type=type, limit=1)"
   ]
  }
 ],
 "metadata": {
  "kernelspec": {
   "display_name": "Python 3",
   "language": "python",
   "name": "python3"
  },
  "language_info": {
   "codemirror_mode": {
    "name": "ipython",
    "version": 3
   },
   "file_extension": ".py",
   "mimetype": "text/x-python",
   "name": "python",
   "nbconvert_exporter": "python",
   "pygments_lexer": "ipython3",
   "version": "3.10.7"
  },
  "orig_nbformat": 4,
  "vscode": {
   "interpreter": {
    "hash": "8472d44af6936e0c48978bc4278d351bcd93795cd05ed6b70713607c296c8253"
   }
  }
 },
 "nbformat": 4,
 "nbformat_minor": 2
}
